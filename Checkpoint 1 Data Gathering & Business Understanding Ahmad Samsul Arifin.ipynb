{
  "nbformat": 4,
  "nbformat_minor": 0,
  "metadata": {
    "colab": {
      "provenance": []
    },
    "kernelspec": {
      "name": "python3",
      "display_name": "Python 3"
    },
    "language_info": {
      "name": "python"
    }
  },
  "cells": [
    {
      "cell_type": "markdown",
      "source": [
        "Nama : Ahmad Samsul Arifin\n",
        "\n",
        "Nim : 2409116113\n"
      ],
      "metadata": {
        "id": "hK8A6OVs8Mnc"
      }
    },
    {
      "cell_type": "markdown",
      "source": [
        "**Studi Kasus** : Analisis Perbandingan Karakteristik Wajah Bedasarkan Gender"
      ],
      "metadata": {
        "id": "EtsAcTj_802b"
      }
    },
    {
      "cell_type": "markdown",
      "source": [
        "# **Business Understanding**"
      ],
      "metadata": {
        "id": "VB1O7aiw-JrW"
      }
    },
    {
      "cell_type": "markdown",
      "source": [
        "## **Business Objective**"
      ],
      "metadata": {
        "id": "t-MXan7D-3g3"
      }
    },
    {
      "cell_type": "markdown",
      "source": [
        "Tujuan utama dari analisis ini adalah untuk mengetahui apakah terdapat perbedaan karakteristik wajah antara pria dan wanita bedasarkan panjang rambut, lebar dahi,tinggi dahi,lebar hidung,panjang hidung.Analisis ini dapat digunakan dalam bidang antropologi,kesehatan,dan pengembangan sistem berbasis biometrik."
      ],
      "metadata": {
        "id": "19pW97ax_IjR"
      }
    },
    {
      "cell_type": "markdown",
      "source": [
        "## **Assess Situation**"
      ],
      "metadata": {
        "id": "rPTVkY-SBdKc"
      }
    },
    {
      "cell_type": "markdown",
      "source": [
        "Dari dataset yang di analisis data ini hanya berbasis angka sehingga data lain yang berupa seperti gaya rambut tidak bisa di analisis,kemudian distribusi data yang belum seimbang yang berarti jumlah data pria dan wanita bisa condong ke satu sisi,lalu dataset ini hanya memberikan wawasan dan belum tentu dataset ini berlaku di semua populasi,tetapi bisa di jadikan awal untuk studi yang lebih mendalam."
      ],
      "metadata": {
        "id": "BQs41gqYBrqi"
      }
    },
    {
      "cell_type": "markdown",
      "source": [
        "## **Data Mining Goals**"
      ],
      "metadata": {
        "id": "vb6oYYDAFiCC"
      }
    },
    {
      "cell_type": "markdown",
      "source": [
        "Mengidentifikasi apakah ada pola yang signifikan dalam lebar dan tinggi dahi antara pria dan wanita. Jika ada perbedaan mencolok, ini bisa menjadi salah satu ciri khas pembeda antara kedua gender,Mengevaluasi apakah pria cenderung memiliki hidung yang lebih lebar dibandingkan wanita,serta Menganalisis bagaimana distribusi panjang rambut antara pria dan wanita, apakah ada kecenderungan tertentu, dan bagaimana hal ini dapat mempengaruhi interpretasi karakteristik wajah dalam dataset."
      ],
      "metadata": {
        "id": "QwM1IS0XGWTC"
      }
    },
    {
      "cell_type": "markdown",
      "source": [
        "## **Project Plan**"
      ],
      "metadata": {
        "id": "O2zIYw3f02F_"
      }
    },
    {
      "cell_type": "markdown",
      "source": [
        "Untuk memastikan analisis dataset yang terstruktur dan menghasilkan wawasan yang akurat,berikut langkah langkahnya :\n",
        "\n",
        "- Memeriksa dataset untuk melihat apakah terdapat nilai yang hilang atau outlier,serta melakukan eksplorasi awal untuk memahami distribusi data agar analisis lebih akurat.\n",
        "\n",
        "- Menganalisis perbedaan karakteristik wajah antara pria dan wanita menggunakan statistik deskriptif untuk mengidentifikasi pola utama dalam data.\n",
        "\n",
        "- Hasil analisis kemudian disusun untuk memberikan pemahaman lebih dalam tentang pola yang ditemukan. Berdasarkan temuan tersebut,rekomendasi dibuat agar dapat dimanfaatkan dalam berbagai bidang seperti antropologi,kecantikan, medis,atau pengembangan sistem biometrik."
      ],
      "metadata": {
        "id": "nbqrWMjT1Iks"
      }
    },
    {
      "cell_type": "markdown",
      "source": [],
      "metadata": {
        "id": "GmNiohgt4WrZ"
      }
    }
  ]
}